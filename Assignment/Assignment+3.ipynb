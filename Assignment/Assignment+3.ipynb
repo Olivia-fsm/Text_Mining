{
 "cells": [
  {
   "cell_type": "markdown",
   "metadata": {},
   "source": [
    "---\n",
    "\n",
    "_You are currently looking at **version 1.1** of this notebook. To download notebooks and datafiles, as well as get help on Jupyter notebooks in the Coursera platform, visit the [Jupyter Notebook FAQ](https://www.coursera.org/learn/python-text-mining/resources/d9pwm) course resource._\n",
    "\n",
    "---"
   ]
  },
  {
   "cell_type": "markdown",
   "metadata": {},
   "source": [
    "# Assignment 3\n",
    "\n",
    "In this assignment you will explore text message data and create models to predict if a message is spam or not. "
   ]
  },
  {
   "cell_type": "code",
   "execution_count": null,
   "metadata": {
    "collapsed": true
   },
   "outputs": [],
   "source": [
    "import pandas as pd\n",
    "import numpy as np\n",
    "\n",
    "spam_data = pd.read_csv('spam.csv')\n",
    "\n",
    "spam_data['target'] = np.where(spam_data['target']=='spam',1,0)\n",
    "spam_data.head(10)"
   ]
  },
  {
   "cell_type": "code",
   "execution_count": 51,
   "metadata": {
    "collapsed": true
   },
   "outputs": [],
   "source": [
    "from sklearn.model_selection import train_test_split\n",
    "\n",
    "\n",
    "X_train, X_test, y_train, y_test = train_test_split(spam_data['text'], \n",
    "                                                    spam_data['target'], \n",
    "                                                    random_state=0)"
   ]
  },
  {
   "cell_type": "markdown",
   "metadata": {},
   "source": [
    "### Question 1\n",
    "What percentage of the documents in `spam_data` are spam?\n",
    "\n",
    "*This function should return a float, the percent value (i.e. $ratio * 100$).*"
   ]
  },
  {
   "cell_type": "code",
   "execution_count": 52,
   "metadata": {
    "collapsed": true
   },
   "outputs": [],
   "source": [
    "def answer_one():\n",
    "    \n",
    "    return spam_data[\"target\"].mean()*100"
   ]
  },
  {
   "cell_type": "code",
   "execution_count": 53,
   "metadata": {},
   "outputs": [
    {
     "data": {
      "text/plain": [
       "13.406317300789663"
      ]
     },
     "execution_count": 53,
     "metadata": {},
     "output_type": "execute_result"
    }
   ],
   "source": [
    "answer_one()"
   ]
  },
  {
   "cell_type": "markdown",
   "metadata": {},
   "source": [
    "### Question 2\n",
    "\n",
    "Fit the training data `X_train` using a Count Vectorizer with default parameters.\n",
    "\n",
    "What is the longest token in the vocabulary?\n",
    "\n",
    "*This function should return a string.*"
   ]
  },
  {
   "cell_type": "code",
   "execution_count": 54,
   "metadata": {
    "collapsed": true
   },
   "outputs": [],
   "source": [
    "from sklearn.feature_extraction.text import CountVectorizer\n",
    "\n",
    "def answer_two():\n",
    "    spam_counter = CountVectorizer().fit(X_train)\n",
    "    wordsList = spam_counter.get_feature_names()\n",
    "        \n",
    "    return wordsList[np.argmax([len(w) for w in wordsList])]"
   ]
  },
  {
   "cell_type": "code",
   "execution_count": 55,
   "metadata": {},
   "outputs": [
    {
     "data": {
      "text/plain": [
       "'com1win150ppmx3age16subscription'"
      ]
     },
     "execution_count": 55,
     "metadata": {},
     "output_type": "execute_result"
    }
   ],
   "source": [
    "answer_two()"
   ]
  },
  {
   "cell_type": "markdown",
   "metadata": {},
   "source": [
    "### Question 3\n",
    "\n",
    "Fit and transform the training data `X_train` using a Count Vectorizer with default parameters.\n",
    "\n",
    "Next, fit a fit a multinomial Naive Bayes classifier model with smoothing `alpha=0.1`. Find the area under the curve (AUC) score using the transformed test data.\n",
    "\n",
    "*This function should return the AUC score as a float.*"
   ]
  },
  {
   "cell_type": "code",
   "execution_count": 56,
   "metadata": {
    "collapsed": true
   },
   "outputs": [],
   "source": [
    "from sklearn.naive_bayes import MultinomialNB\n",
    "from sklearn.metrics import roc_auc_score\n",
    "\n",
    "def answer_three():\n",
    "    vect = CountVectorizer()\n",
    "    vect.fit(X_train, y_train)\n",
    "    X_train_transformed = vect.transform(X_train)\n",
    "    X_test_transformed = vect.transform(X_test)\n",
    "    model = MultinomialNB(alpha=0.1)\n",
    "    model.fit(X_train_transformed, y_train)\n",
    "    y_hat = model.predict(X_test_transformed)\n",
    "    return roc_auc_score(y_test, y_hat)"
   ]
  },
  {
   "cell_type": "code",
   "execution_count": 57,
   "metadata": {},
   "outputs": [
    {
     "data": {
      "text/plain": [
       "0.97208121827411165"
      ]
     },
     "execution_count": 57,
     "metadata": {},
     "output_type": "execute_result"
    }
   ],
   "source": [
    "answer_three()"
   ]
  },
  {
   "cell_type": "markdown",
   "metadata": {},
   "source": [
    "### Question 4\n",
    "\n",
    "Fit and transform the training data `X_train` using a Tfidf Vectorizer with default parameters.\n",
    "\n",
    "What 20 features have the smallest tf-idf and what 20 have the largest tf-idf?\n",
    "\n",
    "Put these features in a two series where each series is sorted by tf-idf value and then alphabetically by feature name. The index of the series should be the feature name, and the data should be the tf-idf.\n",
    "\n",
    "The series of 20 features with smallest tf-idfs should be sorted smallest tfidf first, the list of 20 features with largest tf-idfs should be sorted largest first. \n",
    "\n",
    "*This function should return a tuple of two series\n",
    "`(smallest tf-idfs series, largest tf-idfs series)`.*"
   ]
  },
  {
   "cell_type": "code",
   "execution_count": 58,
   "metadata": {
    "collapsed": true
   },
   "outputs": [],
   "source": [
    "from sklearn.feature_extraction.text import TfidfVectorizer\n",
    "import pandas as pd\n",
    "def answer_four():\n",
    "    tfidf_vect = TfidfVectorizer().fit(X_train)\n",
    "    feature_names = np.array(tfidf_vect.get_feature_names())\n",
    "    X_train_tf = tfidf_vect.transform(X_train)\n",
    "    tfidf = X_train_tf.max(0).toarray()[0]\n",
    "    sorted_tfidf_index = X_train_tf.max(0).toarray()[0].argsort()\n",
    "    sorted_tfidf = tfidf[sorted_tfidf_index]\n",
    "    min_tfidf = pd.Series(sorted_tfidf[:20], index = feature_names[sorted_tfidf_index[:20]])\n",
    "    max_tfidf = pd.Series(sorted_tfidf[-21:][::-1], index = feature_names[sorted_tfidf_index[-21:]])\n",
    "\n",
    "    return min_tfidf,max_tfidf\n",
    "\n",
    "\n",
    "# def answer_four():\n",
    "#     tf = TfidfVectorizer().fit(X_train)\n",
    "#     feature_names = np.array(tf.get_feature_names())\n",
    "#     X_train_tf = tf.transform(X_train)\n",
    "#     max_tf_idfs = X_train_tf.max(0).toarray()[0]\n",
    "#     sorted_tf_idxs = max_tf_idfs.argsort()\n",
    "#     sorted_tf_idfs = max_tf_idfs[sorted_tf_idxs]\n",
    "#     smallest_tf_idfs = pd.Series(sorted_tf_idfs[:20], index=feature_names[sorted_tf_idxs[:20]])                    \n",
    "#     largest_tf_idfs = pd.Series(sorted_tf_idfs[-20:][::-1], index=feature_names[sorted_tf_idxs[-20:][::-1]])\n",
    "#     return (smallest_tf_idfs, largest_tf_idfs)"
   ]
  },
  {
   "cell_type": "code",
   "execution_count": 59,
   "metadata": {},
   "outputs": [
    {
     "data": {
      "text/plain": [
       "(sympathetic     0.074475\n",
       " healer          0.074475\n",
       " aaniye          0.074475\n",
       " dependable      0.074475\n",
       " companion       0.074475\n",
       " listener        0.074475\n",
       " athletic        0.074475\n",
       " exterminator    0.074475\n",
       " psychiatrist    0.074475\n",
       " pest            0.074475\n",
       " determined      0.074475\n",
       " chef            0.074475\n",
       " courageous      0.074475\n",
       " stylist         0.074475\n",
       " psychologist    0.074475\n",
       " organizer       0.074475\n",
       " pudunga         0.074475\n",
       " venaam          0.074475\n",
       " diwali          0.091250\n",
       " mornings        0.091250\n",
       " dtype: float64, same         1.000000\n",
       " blank        1.000000\n",
       " tick         1.000000\n",
       " 645          1.000000\n",
       " done         1.000000\n",
       " too          1.000000\n",
       " anytime      1.000000\n",
       " beerage      1.000000\n",
       " where        1.000000\n",
       " ok           1.000000\n",
       " thank        1.000000\n",
       " yup          1.000000\n",
       " nite         1.000000\n",
       " lei          1.000000\n",
       " anything     1.000000\n",
       " er           1.000000\n",
       " thanx        1.000000\n",
       " okie         1.000000\n",
       " home         0.980166\n",
       " havent       0.932702\n",
       " 146tf150p    0.932467\n",
       " dtype: float64)"
      ]
     },
     "execution_count": 59,
     "metadata": {},
     "output_type": "execute_result"
    }
   ],
   "source": [
    "answer_four()"
   ]
  },
  {
   "cell_type": "markdown",
   "metadata": {},
   "source": [
    "### Question 5\n",
    "\n",
    "Fit and transform the training data `X_train` using a Tfidf Vectorizer ignoring terms that have a document frequency strictly lower than **3**.\n",
    "\n",
    "Then fit a multinomial Naive Bayes classifier model with smoothing `alpha=0.1` and compute the area under the curve (AUC) score using the transformed test data.\n",
    "\n",
    "*This function should return the AUC score as a float.*"
   ]
  },
  {
   "cell_type": "code",
   "execution_count": 60,
   "metadata": {
    "collapsed": true
   },
   "outputs": [],
   "source": [
    "def answer_five():\n",
    "    tf_vect = TfidfVectorizer(min_df=3).fit(X_train)\n",
    "    X_train_tf = tf_vect.transform(X_train)\n",
    "    X_test_tf = tf_vect.transform(X_test)\n",
    "    model = MultinomialNB(alpha=0.1)\n",
    "    model.fit(X_train_tf, y_train)\n",
    "    y_hat = model.predict(X_test_tf)\n",
    "    return roc_auc_score(y_test, y_hat)"
   ]
  },
  {
   "cell_type": "code",
   "execution_count": 61,
   "metadata": {},
   "outputs": [
    {
     "data": {
      "text/plain": [
       "0.94162436548223349"
      ]
     },
     "execution_count": 61,
     "metadata": {},
     "output_type": "execute_result"
    }
   ],
   "source": [
    "answer_five()"
   ]
  },
  {
   "cell_type": "markdown",
   "metadata": {},
   "source": [
    "### Question 6\n",
    "\n",
    "What is the average length of documents (number of characters) for not spam and spam documents?\n",
    "\n",
    "*This function should return a tuple (average length not spam, average length spam).*"
   ]
  },
  {
   "cell_type": "code",
   "execution_count": 62,
   "metadata": {
    "collapsed": true
   },
   "outputs": [],
   "source": [
    "def answer_six():\n",
    "    spam_len = np.sum(spam_data[\"target\"])\n",
    "    not_spam_len = len(spam_data['target'])-spam_len\n",
    "    spam_data[\"not_spam_len\"] = np.where(spam_data[\"target\"]==1, 0, 1)*spam_data[\"text\"].str.len()\n",
    "    spam_data[\"spam_len\"] = np.where(spam_data[\"target\"]==1, 1, 0)*spam_data[\"text\"].str.len()\n",
    "    avg_not_spam = np.sum(spam_data[\"not_spam_len\"])/not_spam_len\n",
    "    avg_spam = np.sum(spam_data[\"spam_len\"])/spam_len\n",
    "    return avg_not_spam, avg_spam"
   ]
  },
  {
   "cell_type": "code",
   "execution_count": 63,
   "metadata": {},
   "outputs": [
    {
     "data": {
      "text/plain": [
       "(71.023626943005183, 138.8661311914324)"
      ]
     },
     "execution_count": 63,
     "metadata": {},
     "output_type": "execute_result"
    }
   ],
   "source": [
    "answer_six()"
   ]
  },
  {
   "cell_type": "markdown",
   "metadata": {},
   "source": [
    "<br>\n",
    "<br>\n",
    "The following function has been provided to help you combine new features into the training data:"
   ]
  },
  {
   "cell_type": "code",
   "execution_count": 64,
   "metadata": {
    "collapsed": true
   },
   "outputs": [],
   "source": [
    "def add_feature(X, feature_to_add):\n",
    "    \"\"\"\n",
    "    Returns sparse feature matrix with added feature.\n",
    "    feature_to_add can also be a list of features.\n",
    "    \"\"\"\n",
    "    from scipy.sparse import csr_matrix, hstack\n",
    "    return hstack([X, csr_matrix(feature_to_add).T], 'csr')"
   ]
  },
  {
   "cell_type": "markdown",
   "metadata": {},
   "source": [
    "### Question 7\n",
    "\n",
    "Fit and transform the training data X_train using a Tfidf Vectorizer ignoring terms that have a document frequency strictly lower than **5**.\n",
    "\n",
    "Using this document-term matrix and an additional feature, **the length of document (number of characters)**, fit a Support Vector Classification model with regularization `C=10000`. Then compute the area under the curve (AUC) score using the transformed test data.\n",
    "\n",
    "*This function should return the AUC score as a float.*"
   ]
  },
  {
   "cell_type": "code",
   "execution_count": null,
   "metadata": {
    "collapsed": true
   },
   "outputs": [],
   "source": [
    "# from sklearn.svm import SVC\n",
    "from sklearn.svm import SVC\n",
    "def answer_seven():\n",
    "    len_train_doc = [len(text) for text in X_train]\n",
    "    len_test_doc = [len(text) for text in X_test]\n",
    "    tf_vect = TfidfVectorizer(min_df=5).fit(X_train)\n",
    "    X_train_vect = tf_vect.transform(X_train)\n",
    "    X_test_vect = tf_vect.transform(X_test)\n",
    "    X_train_vect = add_feature(X_train_vect, len_train_doc)\n",
    "    X_test_vect = add_feature(X_test_vect, len_test_doc)    \n",
    "    model = SVC(kernel = 'linear', C=10000).fit(X_train_vect, y_train)\n",
    "    y_hat = model.predict(X_test_vect)\n",
    "    score = roc_auc_score(y_test, y_hat)    \n",
    "    return score"
   ]
  },
  {
   "cell_type": "code",
   "execution_count": null,
   "metadata": {
    "collapsed": true
   },
   "outputs": [],
   "source": [
    "answer_seven()"
   ]
  },
  {
   "cell_type": "markdown",
   "metadata": {},
   "source": [
    "### Question 8\n",
    "\n",
    "What is the average number of digits per document for not spam and spam documents?\n",
    "\n",
    "*This function should return a tuple (average # digits not spam, average # digits spam).*"
   ]
  },
  {
   "cell_type": "code",
   "execution_count": 45,
   "metadata": {
    "collapsed": true
   },
   "outputs": [],
   "source": [
    "def answer_eight():\n",
    "    digits_not_spam = [sum(w.isnumeric() for w in text) for text in spam_data.loc[spam_data[\"target\"]==0, \"text\"]]\n",
    "    digits_spam = [sum(w.isnumeric() for w in text) for text in spam_data.loc[spam_data[\"target\"]==1, \"text\"]]\n",
    "    return np.mean(digits_not_spam), np.mean(digits_spam)"
   ]
  },
  {
   "cell_type": "code",
   "execution_count": 46,
   "metadata": {},
   "outputs": [
    {
     "data": {
      "text/plain": [
       "(0.29927461139896372, 15.76037483266399)"
      ]
     },
     "execution_count": 46,
     "metadata": {},
     "output_type": "execute_result"
    }
   ],
   "source": [
    "answer_eight()"
   ]
  },
  {
   "cell_type": "markdown",
   "metadata": {},
   "source": [
    "### Question 9\n",
    "\n",
    "Fit and transform the training data `X_train` using a Tfidf Vectorizer ignoring terms that have a document frequency strictly lower than **5** and using **word n-grams from n=1 to n=3** (unigrams, bigrams, and trigrams).\n",
    "\n",
    "Using this document-term matrix and the following additional features:\n",
    "* the length of document (number of characters)\n",
    "* **number of digits per document**\n",
    "\n",
    "fit a Logistic Regression model with regularization `C=100`. Then compute the area under the curve (AUC) score using the transformed test data.\n",
    "\n",
    "*This function should return the AUC score as a float.*"
   ]
  },
  {
   "cell_type": "code",
   "execution_count": 39,
   "metadata": {
    "collapsed": true
   },
   "outputs": [],
   "source": [
    "from sklearn.linear_model import LogisticRegression\n",
    "\n",
    "def answer_nine():\n",
    "    tf_vect = TfidfVectorizer(min_df=5, ngram_range=(1,3)).fit(X_train)\n",
    "    X_train_vect = tf_vect.transform(X_train)\n",
    "    X_test_vect = tf_vect.transform(X_test)\n",
    "    len_doc_train = [len(text) for text in X_train]\n",
    "    len_doc_test = [len(text) for text in X_test]\n",
    "    num_digits_train = [sum(w.isnumeric() for w in text) for text in X_train]\n",
    "    num_digits_test = [sum(w.isnumeric() for w in text) for text in X_test]\n",
    "    X_train_vect = add_feature(X_train_vect, len_doc_train)\n",
    "    X_test_vect = add_feature(X_test_vect, len_doc_test)\n",
    "    X_train_vect = add_feature(X_train_vect, num_digits_train)\n",
    "    X_test_vect = add_feature(X_test_vect, num_digits_test)\n",
    "    model = LogisticRegression(C=100).fit(X_train_vect, y_train)\n",
    "    y_hat = model.predict(X_test_vect)\n",
    "    return roc_auc_score(y_test, y_hat)"
   ]
  },
  {
   "cell_type": "code",
   "execution_count": 40,
   "metadata": {},
   "outputs": [
    {
     "data": {
      "text/plain": [
       "0.96533283533945646"
      ]
     },
     "execution_count": 40,
     "metadata": {},
     "output_type": "execute_result"
    }
   ],
   "source": [
    "answer_nine()"
   ]
  },
  {
   "cell_type": "markdown",
   "metadata": {},
   "source": [
    "### Question 10\n",
    "\n",
    "What is the average number of non-word characters (anything other than a letter, digit or underscore) per document for not spam and spam documents?\n",
    "\n",
    "*Hint: Use `\\w` and `\\W` character classes*\n",
    "\n",
    "*This function should return a tuple (average # non-word characters not spam, average # non-word characters spam).*"
   ]
  },
  {
   "cell_type": "code",
   "execution_count": 41,
   "metadata": {
    "collapsed": true
   },
   "outputs": [],
   "source": [
    "def answer_ten():\n",
    "    non_word_spam = np.mean(spam_data.loc[spam_data[\"target\"]==1, \"text\"].str.count('\\W'))\n",
    "    non_word_not_spam = np.mean(spam_data.loc[spam_data[\"target\"]==0, \"text\"].str.count('\\W'))\n",
    "    return non_word_not_spam, non_word_spam"
   ]
  },
  {
   "cell_type": "code",
   "execution_count": 42,
   "metadata": {},
   "outputs": [
    {
     "data": {
      "text/plain": [
       "(17.291813471502589, 29.041499330655956)"
      ]
     },
     "execution_count": 42,
     "metadata": {},
     "output_type": "execute_result"
    }
   ],
   "source": [
    "answer_ten()"
   ]
  },
  {
   "cell_type": "markdown",
   "metadata": {},
   "source": [
    "### Question 11\n",
    "\n",
    "Fit and transform the training data X_train using a Count Vectorizer ignoring terms that have a document frequency strictly lower than **5** and using **character n-grams from n=2 to n=5.**\n",
    "\n",
    "To tell Count Vectorizer to use character n-grams pass in `analyzer='char_wb'` which creates character n-grams only from text inside word boundaries. This should make the model more robust to spelling mistakes.\n",
    "\n",
    "Using this document-term matrix and the following additional features:\n",
    "* the length of document (number of characters)\n",
    "* number of digits per document\n",
    "* **number of non-word characters (anything other than a letter, digit or underscore.)**\n",
    "\n",
    "fit a Logistic Regression model with regularization C=100. Then compute the area under the curve (AUC) score using the transformed test data.\n",
    "\n",
    "Also **find the 10 smallest and 10 largest coefficients from the model** and return them along with the AUC score in a tuple.\n",
    "\n",
    "The list of 10 smallest coefficients should be sorted smallest first, the list of 10 largest coefficients should be sorted largest first.\n",
    "\n",
    "The three features that were added to the document term matrix should have the following names should they appear in the list of coefficients:\n",
    "['length_of_doc', 'digit_count', 'non_word_char_count']\n",
    "\n",
    "*This function should return a tuple `(AUC score as a float, smallest coefs list, largest coefs list)`.*"
   ]
  },
  {
   "cell_type": "code",
   "execution_count": null,
   "metadata": {
    "collapsed": true
   },
   "outputs": [],
   "source": [
    "def answer_eleven():\n",
    "    vect = CountVectorizer(min_df=5, ngram_range=(2,5), analyzer='char_wb').fit(X_train)\n",
    "    X_train_vect = vect.transform(X_train)\n",
    "    X_test_vect = vect.transform(X_test)\n",
    "    len_doc_train = [len(text) for text in X_train]\n",
    "    len_doc_test = [len(text) for text in X_test]\n",
    "    num_digits_train = [sum(w.isnumeric() for w in text) for text in X_train]\n",
    "    num_digits_test = [sum(w.isnumeric() for w in text) for text in X_test]\n",
    "    num_nonword_train = [len(text)-sum(w.isalnum() for w in text) for text in X_train]\n",
    "    num_nonword_test = [len(text)-sum(w.isalnum() for w in text) for text in X_test]\n",
    "    X_train_vect = add_feature(X_train_vect, len_doc_train)\n",
    "    X_test_vect = add_feature(X_test_vect, len_doc_test)\n",
    "    X_train_vect = add_feature(X_train_vect, num_digits_train)\n",
    "    X_test_vect = add_feature(X_test_vect, num_digits_test)\n",
    "    X_train_vect = add_feature(X_train_vect, num_nonword_train)\n",
    "    X_test_vect = add_feature(X_test_vect, num_nonword_test)   \n",
    "    model = LogisticRegression(C=100).fit(X_train_vect, y_train)\n",
    "    y_hat = model.predict(X_test_vect)\n",
    "    smallest = model.coef_.argsort()[:10]\n",
    "    largest = model.coef_.argsort()[:-11:-1]\n",
    "    return roc_auc_score(y_test, y_hat), list(smallest), list(largest)"
   ]
  },
  {
   "cell_type": "code",
   "execution_count": 31,
   "metadata": {},
   "outputs": [
    {
     "data": {
      "text/plain": [
       "0.97885931107074342"
      ]
     },
     "execution_count": 31,
     "metadata": {},
     "output_type": "execute_result"
    }
   ],
   "source": [
    "answer_eleven()"
   ]
  },
  {
   "cell_type": "code",
   "execution_count": null,
   "metadata": {
    "collapsed": true
   },
   "outputs": [],
   "source": []
  }
 ],
 "metadata": {
  "coursera": {
   "course_slug": "python-text-mining",
   "graded_item_id": "Pn19K",
   "launcher_item_id": "y1juS",
   "part_id": "ctlgo"
  },
  "kernelspec": {
   "display_name": "Python 3",
   "language": "python",
   "name": "python3"
  },
  "language_info": {
   "codemirror_mode": {
    "name": "ipython",
    "version": 3
   },
   "file_extension": ".py",
   "mimetype": "text/x-python",
   "name": "python",
   "nbconvert_exporter": "python",
   "pygments_lexer": "ipython3",
   "version": "3.6.2"
  }
 },
 "nbformat": 4,
 "nbformat_minor": 2
}
