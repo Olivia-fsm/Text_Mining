{
 "cells": [
  {
   "cell_type": "markdown",
   "metadata": {},
   "source": [
    "---\n",
    "\n",
    "_You are currently looking at **version 1.1** of this notebook. To download notebooks and datafiles, as well as get help on Jupyter notebooks in the Coursera platform, visit the [Jupyter Notebook FAQ](https://www.coursera.org/learn/python-text-mining/resources/d9pwm) course resource._\n",
    "\n",
    "---"
   ]
  },
  {
   "cell_type": "markdown",
   "metadata": {},
   "source": [
    "# Assignment 1\n",
    "\n",
    "In this assignment, you'll be working with messy medical data and using regex to extract relevant infromation from the data. \n",
    "\n",
    "Each line of the `dates.txt` file corresponds to a medical note. Each note has a date that needs to be extracted, but each date is encoded in one of many formats.\n",
    "\n",
    "The goal of this assignment is to correctly identify all of the different date variants encoded in this dataset and to properly normalize and sort the dates. \n",
    "\n",
    "Here is a list of some of the variants you might encounter in this dataset:\n",
    "* 04/20/2009; 04/20/09; 4/20/09; 4/3/09\n",
    "* Mar-20-2009; Mar 20, 2009; March 20, 2009;  Mar. 20, 2009; Mar 20 2009;\n",
    "* 20 Mar 2009; 20 March 2009; 20 Mar. 2009; 20 March, 2009\n",
    "* Mar 20th, 2009; Mar 21st, 2009; Mar 22nd, 2009\n",
    "* Feb 2009; Sep 2009; Oct 2010\n",
    "* 6/2008; 12/2009\n",
    "* 2009; 2010\n",
    "\n",
    "Once you have extracted these date patterns from the text, the next step is to sort them in ascending chronological order accoring to the following rules:\n",
    "* Assume all dates in xx/xx/xx format are mm/dd/yy\n",
    "* Assume all dates where year is encoded in only two digits are years from the 1900's (e.g. 1/5/89 is January 5th, 1989)\n",
    "* If the day is missing (e.g. 9/2009), assume it is the first day of the month (e.g. September 1, 2009).\n",
    "* If the month is missing (e.g. 2010), assume it is the first of January of that year (e.g. January 1, 2010).\n",
    "* Watch out for potential typos as this is a raw, real-life derived dataset.\n",
    "\n",
    "With these rules in mind, find the correct date in each note and return a pandas Series in chronological order of the original Series' indices.\n",
    "\n",
    "For example if the original series was this:\n",
    "\n",
    "    0    1999\n",
    "    1    2010\n",
    "    2    1978\n",
    "    3    2015\n",
    "    4    1985\n",
    "\n",
    "Your function should return this:\n",
    "\n",
    "    0    2\n",
    "    1    4\n",
    "    2    0\n",
    "    3    1\n",
    "    4    3\n",
    "\n",
    "Your score will be calculated using [Kendall's tau](https://en.wikipedia.org/wiki/Kendall_rank_correlation_coefficient), a correlation measure for ordinal data.\n",
    "\n",
    "*This function should return a Series of length 500 and dtype int.*"
   ]
  },
  {
   "cell_type": "code",
   "execution_count": 294,
   "metadata": {},
   "outputs": [
    {
     "data": {
      "text/plain": [
       "'.Iredell Memorial Hospital, February 2000, after suicide attempt by cutting.Hx of Outpatient Treatment: Yes\\n'"
      ]
     },
     "execution_count": 294,
     "metadata": {},
     "output_type": "execute_result"
    }
   ],
   "source": [
    "import pandas as pd\n",
    "\n",
    "doc = []\n",
    "with open('dates.txt') as file:\n",
    "    for line in file:\n",
    "        doc.append(line)\n",
    "\n",
    "df = pd.Series(doc)\n",
    "df[260]"
   ]
  },
  {
   "cell_type": "code",
   "execution_count": 321,
   "metadata": {},
   "outputs": [],
   "source": [
    "import re\n",
    "def date_sorter():\n",
    "    reSent1 = r'(?P<month>\\d{1,2})[/-](?P<day>\\d{1,2})[/-](?P<year>\\d{2,4})' # mm/dd/yy, fillout if len(yy)==2\n",
    "    reSent2 = r'(?P<month>Jan|Feb|Mar|Apr|May|June|Jul|Aug|Sep|Oct|Nov|Dec).?[a-z., -]+(?P<day>\\d?\\d)[a-z ,./-]+(?P<year>\\d{2,4})' # Mar. 20 2020\n",
    "    reSent3 = r'(?P<day>\\d?\\d)[ /-]+(?P<month>Jan|Feb|Mar|Apr|May|June|Jul|Aug|Sep|Oct|Nov|Dec)[a-z., /-]+(?P<year>\\d{2,4})' # 20 Mar. 2020\n",
    "    reSent4 = r'(?P<month>Jan|Feb|Mar|Apr|May|June|Jul|Aug|Sep|Oct|Nov|Dec)[a-z ]+(?P<year>\\d{4})' # Mar 2020\n",
    "    reSent5 = r'(?P<month>\\d{1,2})/(?P<year>\\d{4})' # 12/2020\n",
    "    reSent6 = r'(?P<year>\\d{4})' # (Jan 1) 2020\n",
    "\n",
    "    reFrame1 = df.str.extract(reSent1)\n",
    "    reFrame2 = df.str.extract(reSent2).dropna(how='all')\n",
    "    reFrame2['month'] = reFrame2['month'].replace({r'Jan[a-z]*':'01', \n",
    "                                   r'Feb[a-z]*':'02',\n",
    "                                   r'Mar[a-z]*':'03',\n",
    "                                   r'Apr[a-z]*':'04',\n",
    "                                   r'May[a-z]*':'05',\n",
    "                                   r'Jun[a-z]*':'06',\n",
    "                                   r'Jul[a-z]*':'07',\n",
    "                                   r'Aug[a-z]*':'08',\n",
    "                                   r'Sep[a-z]*':'09',\n",
    "                                   r'Oct[a-z]*':'10',\n",
    "                                   r'Nov[a-z]*':'11',\n",
    "                                   r'Dec[a-z]*':'12'}, regex=True)\n",
    "    reFrame3 = df.str.extract(reSent3).dropna(how='all')\n",
    "    reFrame3['month'] = reFrame3['month'].replace({r'Jan[a-z]*':'01', \n",
    "                                   r'Feb[a-z]*':'02',\n",
    "                                   r'Mar[a-z]*':'03',\n",
    "                                   r'Apr[a-z]*':'04',\n",
    "                                   r'May[a-z]*':'05',\n",
    "                                   r'Jun[a-z]*':'06',\n",
    "                                   r'Jul[a-z]*':'07',\n",
    "                                   r'Aug[a-z]*':'08',\n",
    "                                   r'Sep[a-z]*':'09',\n",
    "                                   r'Oct[a-z]*':'10',\n",
    "                                   r'Nov[a-z]*':'11',\n",
    "                                   r'Dec[a-z]*':'12'}, regex=True)\n",
    "    reFrame4 = df.str.extract(reSent4).dropna(how='all')\n",
    "    reFrame4['month'] = reFrame4['month'].replace({r'Jan[a-z]*':'01', \n",
    "                                   r'Feb[a-z]*':'02',\n",
    "                                   r'Mar[a-z]*':'03',\n",
    "                                   r'Apr[a-z]*':'04',\n",
    "                                   r'May[a-z]*':'05',\n",
    "                                   r'Jun[a-z]*':'06',\n",
    "                                   r'Jul[a-z]*':'07',\n",
    "                                   r'Aug[a-z]*':'08',\n",
    "                                   r'Sep[a-z]*':'09',\n",
    "                                   r'Oct[a-z]*':'10',\n",
    "                                   r'Nov[a-z]*':'11',\n",
    "                                   r'Dec[a-z]*':'12'}, regex=True)\n",
    "    reFrame5 = df.str.extract(reSent5).dropna(how='all')\n",
    "    reFrame5.insert(1, 'day', '1')\n",
    "    reFrame6 = df.str.extract(reSent6).dropna(how='all').to_frame(name='year')\n",
    "    reFrame6.insert(0, 'day', '1')\n",
    "    reFrame6.insert(0, 'month', '1')\n",
    "#     reFrame5 = reFrame5.fillna(reFrame6)\n",
    "    reFrame1 = reFrame1.fillna(reFrame2)\n",
    "    reFrame1 = reFrame1.fillna(reFrame3)\n",
    "    reFrame1 = reFrame1.fillna(reFrame4)\n",
    "    reFrame1 = reFrame1.fillna(reFrame5)\n",
    "    reFrame1 = reFrame1.fillna(reFrame6)\n",
    "    reFrame1['year']=reFrame1['year'].str.replace(r'(^\\d{2}\\b)',lambda x: '19'+x.groups()[0][:2])\n",
    "    reFrame1['month']= reFrame1['month'].astype(int)\n",
    "    reFrame1['day']= reFrame1['day'].astype(int)\n",
    "    reFrame1['year']= reFrame1['year'].astype(int) \n",
    "    sortedIdx = reFrame1.sort_values(by = ['year', 'month', 'day'], ascending=True).index\n",
    "    sortedIdx = pd.Series(sortedIdx)\n",
    "    return sortedIdx"
   ]
  },
  {
   "cell_type": "code",
   "execution_count": 322,
   "metadata": {},
   "outputs": [
    {
     "name": "stderr",
     "output_type": "stream",
     "text": [
      "/opt/conda/lib/python3.6/site-packages/ipykernel_launcher.py:10: FutureWarning: currently extract(expand=None) means expand=False (return Index/Series/DataFrame) but in a future version of pandas this will be changed to expand=True (return DataFrame)\n",
      "  # Remove the CWD from sys.path while we load stuff.\n",
      "/opt/conda/lib/python3.6/site-packages/ipykernel_launcher.py:11: FutureWarning: currently extract(expand=None) means expand=False (return Index/Series/DataFrame) but in a future version of pandas this will be changed to expand=True (return DataFrame)\n",
      "  # This is added back by InteractiveShellApp.init_path()\n",
      "/opt/conda/lib/python3.6/site-packages/ipykernel_launcher.py:24: FutureWarning: currently extract(expand=None) means expand=False (return Index/Series/DataFrame) but in a future version of pandas this will be changed to expand=True (return DataFrame)\n",
      "/opt/conda/lib/python3.6/site-packages/ipykernel_launcher.py:37: FutureWarning: currently extract(expand=None) means expand=False (return Index/Series/DataFrame) but in a future version of pandas this will be changed to expand=True (return DataFrame)\n",
      "/opt/conda/lib/python3.6/site-packages/ipykernel_launcher.py:50: FutureWarning: currently extract(expand=None) means expand=False (return Index/Series/DataFrame) but in a future version of pandas this will be changed to expand=True (return DataFrame)\n",
      "/opt/conda/lib/python3.6/site-packages/ipykernel_launcher.py:52: FutureWarning: currently extract(expand=None) means expand=False (return Index/Series/DataFrame) but in a future version of pandas this will be changed to expand=True (return DataFrame)\n"
     ]
    },
    {
     "data": {
      "text/plain": [
       "0        9\n",
       "1       84\n",
       "2        2\n",
       "3       53\n",
       "4       28\n",
       "5      474\n",
       "6      153\n",
       "7       13\n",
       "8      129\n",
       "9       98\n",
       "10     111\n",
       "11     225\n",
       "12      31\n",
       "13     171\n",
       "14     191\n",
       "15     486\n",
       "16     335\n",
       "17     415\n",
       "18      36\n",
       "19     323\n",
       "20     405\n",
       "21     422\n",
       "22     375\n",
       "23     380\n",
       "24     345\n",
       "25      57\n",
       "26     481\n",
       "27     436\n",
       "28     104\n",
       "29     299\n",
       "      ... \n",
       "470    220\n",
       "471    208\n",
       "472    243\n",
       "473    139\n",
       "474    320\n",
       "475    383\n",
       "476    244\n",
       "477    286\n",
       "478    480\n",
       "479    431\n",
       "480    279\n",
       "481    198\n",
       "482    381\n",
       "483    463\n",
       "484    366\n",
       "485    255\n",
       "486    439\n",
       "487    401\n",
       "488    475\n",
       "489    257\n",
       "490    152\n",
       "491    235\n",
       "492    464\n",
       "493    253\n",
       "494    231\n",
       "495    427\n",
       "496    141\n",
       "497    186\n",
       "498    161\n",
       "499    413\n",
       "Length: 500, dtype: int64"
      ]
     },
     "execution_count": 322,
     "metadata": {},
     "output_type": "execute_result"
    }
   ],
   "source": [
    "date_sorter()"
   ]
  },
  {
   "cell_type": "code",
   "execution_count": null,
   "metadata": {
    "collapsed": true
   },
   "outputs": [],
   "source": []
  },
  {
   "cell_type": "code",
   "execution_count": null,
   "metadata": {
    "collapsed": true
   },
   "outputs": [],
   "source": []
  },
  {
   "cell_type": "code",
   "execution_count": null,
   "metadata": {
    "collapsed": true
   },
   "outputs": [],
   "source": []
  },
  {
   "cell_type": "code",
   "execution_count": null,
   "metadata": {
    "collapsed": true
   },
   "outputs": [],
   "source": []
  },
  {
   "cell_type": "code",
   "execution_count": null,
   "metadata": {
    "collapsed": true
   },
   "outputs": [],
   "source": []
  },
  {
   "cell_type": "code",
   "execution_count": null,
   "metadata": {
    "collapsed": true
   },
   "outputs": [],
   "source": []
  },
  {
   "cell_type": "code",
   "execution_count": null,
   "metadata": {
    "collapsed": true
   },
   "outputs": [],
   "source": []
  }
 ],
 "metadata": {
  "coursera": {
   "course_slug": "python-text-mining",
   "graded_item_id": "LvcWI",
   "launcher_item_id": "krne9",
   "part_id": "Mkp1I"
  },
  "kernelspec": {
   "display_name": "Python 3",
   "language": "python",
   "name": "python3"
  },
  "language_info": {
   "codemirror_mode": {
    "name": "ipython",
    "version": 3
   },
   "file_extension": ".py",
   "mimetype": "text/x-python",
   "name": "python",
   "nbconvert_exporter": "python",
   "pygments_lexer": "ipython3",
   "version": "3.6.2"
  }
 },
 "nbformat": 4,
 "nbformat_minor": 2
}
